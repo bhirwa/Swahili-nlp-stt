{
 "cells": [
  {
   "cell_type": "code",
   "execution_count": 17,
   "metadata": {},
   "outputs": [],
   "source": [
    "import wave\n",
    "import os\n",
    "import librosa "
   ]
  },
  {
   "cell_type": "code",
   "execution_count": 4,
   "metadata": {},
   "outputs": [
    {
     "data": {
      "text/plain": [
       "['train\\\\wav/SWH-05-20101106/SWH-05-20101106_16k-emission_swahili_05h30_-_06h00_tu_20101106_part10.wav',\n",
       " 'train\\\\wav/SWH-05-20101106/SWH-05-20101106_16k-emission_swahili_05h30_-_06h00_tu_20101106_part100.wav',\n",
       " 'train\\\\wav/SWH-05-20101106/SWH-05-20101106_16k-emission_swahili_05h30_-_06h00_tu_20101106_part101.wav',\n",
       " 'train\\\\wav/SWH-05-20101106/SWH-05-20101106_16k-emission_swahili_05h30_-_06h00_tu_20101106_part102.wav',\n",
       " 'train\\\\wav/SWH-05-20101106/SWH-05-20101106_16k-emission_swahili_05h30_-_06h00_tu_20101106_part103.wav',\n",
       " 'train\\\\wav/SWH-05-20101106/SWH-05-20101106_16k-emission_swahili_05h30_-_06h00_tu_20101106_part104.wav',\n",
       " 'train\\\\wav/SWH-05-20101106/SWH-05-20101106_16k-emission_swahili_05h30_-_06h00_tu_20101106_part105.wav',\n",
       " 'train\\\\wav/SWH-05-20101106/SWH-05-20101106_16k-emission_swahili_05h30_-_06h00_tu_20101106_part106.wav',\n",
       " 'train\\\\wav/SWH-05-20101106/SWH-05-20101106_16k-emission_swahili_05h30_-_06h00_tu_20101106_part107.wav',\n",
       " 'train\\\\wav/SWH-05-20101106/SWH-05-20101106_16k-emission_swahili_05h30_-_06h00_tu_20101106_part108.wav']"
      ]
     },
     "execution_count": 4,
     "metadata": {},
     "output_type": "execute_result"
    }
   ],
   "source": [
    "Path_to_train = \"train\\wav\"\n",
    "subfolders = os.listdir(Path_to_train)\n",
    "data = []\n",
    "for s in subfolders:\n",
    "    files = os.listdir(Path_to_train + \"/\" +s)\n",
    "    data.extend([Path_to_train + \"/\" + s+ \"/\" + f for f in files])\n",
    "data[:10]"
   ]
  },
  {
   "cell_type": "code",
   "execution_count": 5,
   "metadata": {},
   "outputs": [],
   "source": [
    "#read text from every transcription audio\n",
    "def read_text( text_path):\n",
    "    text = []\n",
    "    with open(text_path) as fp:\n",
    "        line = fp.readline()\n",
    "        while line:\n",
    "        # TODO: fix spaces in in amharic text\n",
    "            text.append(line)\n",
    "            line = fp.readline()\n",
    "    return text"
   ]
  },
  {
   "cell_type": "code",
   "execution_count": 8,
   "metadata": {},
   "outputs": [
    {
     "data": {
      "text/plain": [
       "['rais wa tanzania jakaya mrisho kikwete\\n',\n",
       " 'yanayo andaliwa nami pendo pondo idhaa ya kiswahili\\n',\n",
       " 'inayokutangazia moja kwa moja kutoka jijini dar es salaam tanzania\\n',\n",
       " 'juma hili bara la afrika limeshuhudia raia wa nchi za niger\\n',\n",
       " 'wakipiga kura ya maoni ilikufanya mabadiliko ya\\n',\n",
       " 'kule abidjan raia wa jiji hilo\\n',\n",
       " 'walipata fursa ya kutumia haki yao ya msingi\\n',\n",
       " 'waziri mkuu wa zamani alasane watara\\n',\n",
       " 'na rais aliyetangulia henry konan berdi\\n',\n",
       " 'walichuana vikali na rais lauren bagbo\\n']"
      ]
     },
     "execution_count": 8,
     "metadata": {},
     "output_type": "execute_result"
    }
   ],
   "source": [
    "#extract the transcription and the label \n",
    "label=[]\n",
    "transcriptions = []\n",
    "for t in text:\n",
    "    sp = t.split(\"\\t\")\n",
    "    sp = sp.strip(\"\\n\")\n",
    "    if len(sp) > 1:\n",
    "        label.append(sp[0])\n",
    "        transcriptions.append(sp[1])\n",
    "transcriptions[:10]"
   ]
  },
  {
   "cell_type": "code",
   "execution_count": 14,
   "metadata": {},
   "outputs": [],
   "source": [
    "#get audio path , every path must corespond to transcription , get the transprion in the doc and append to audio path \n",
    "audio_path=[0]*len(transcriptions)\n",
    "for d in data:\n",
    "    _d = d.strip(\".wav\")\n",
    "    sp = _d.split(\"/\")[2]\n",
    "    index = label.index(sp)\n",
    "    audio_path[index] = d"
   ]
  },
  {
   "cell_type": "code",
   "execution_count": 18,
   "metadata": {},
   "outputs": [],
   "source": [
    "#calculate duration \n",
    "duration_of_recordings=[]\n",
    "for d in audio_path:\n",
    "    audio, fs = librosa.load(d, sr=None)\n",
    "    duration_of_recordings.append(float(len(audio)/fs))"
   ]
  },
  {
   "cell_type": "code",
   "execution_count": 19,
   "metadata": {},
   "outputs": [],
   "source": [
    "import pandas as pd \n",
    "data=pd.DataFrame({'key': audio_path,'text': transcriptions, 'duration':duration_of_recordings})"
   ]
  },
  {
   "cell_type": "code",
   "execution_count": 20,
   "metadata": {},
   "outputs": [
    {
     "data": {
      "text/html": [
       "<div>\n",
       "<style scoped>\n",
       "    .dataframe tbody tr th:only-of-type {\n",
       "        vertical-align: middle;\n",
       "    }\n",
       "\n",
       "    .dataframe tbody tr th {\n",
       "        vertical-align: top;\n",
       "    }\n",
       "\n",
       "    .dataframe thead th {\n",
       "        text-align: right;\n",
       "    }\n",
       "</style>\n",
       "<table border=\"1\" class=\"dataframe\">\n",
       "  <thead>\n",
       "    <tr style=\"text-align: right;\">\n",
       "      <th></th>\n",
       "      <th>key</th>\n",
       "      <th>text</th>\n",
       "      <th>duration</th>\n",
       "    </tr>\n",
       "  </thead>\n",
       "  <tbody>\n",
       "    <tr>\n",
       "      <th>0</th>\n",
       "      <td>train\\wav/SWH-05-20101106/SWH-05-20101106_16k-...</td>\n",
       "      <td>rais wa tanzania jakaya mrisho kikwete\\n</td>\n",
       "      <td>3.140000</td>\n",
       "    </tr>\n",
       "    <tr>\n",
       "      <th>1</th>\n",
       "      <td>train\\wav/SWH-05-20101106/SWH-05-20101106_16k-...</td>\n",
       "      <td>yanayo andaliwa nami pendo pondo idhaa ya kisw...</td>\n",
       "      <td>3.100000</td>\n",
       "    </tr>\n",
       "    <tr>\n",
       "      <th>2</th>\n",
       "      <td>train\\wav/SWH-05-20101106/SWH-05-20101106_16k-...</td>\n",
       "      <td>inayokutangazia moja kwa moja kutoka jijini da...</td>\n",
       "      <td>3.650000</td>\n",
       "    </tr>\n",
       "    <tr>\n",
       "      <th>3</th>\n",
       "      <td>train\\wav/SWH-05-20101106/SWH-05-20101106_16k-...</td>\n",
       "      <td>juma hili bara la afrika limeshuhudia raia wa ...</td>\n",
       "      <td>3.900000</td>\n",
       "    </tr>\n",
       "    <tr>\n",
       "      <th>4</th>\n",
       "      <td>train\\wav/SWH-05-20101106/SWH-05-20101106_16k-...</td>\n",
       "      <td>wakipiga kura ya maoni ilikufanya mabadiliko ya\\n</td>\n",
       "      <td>2.940000</td>\n",
       "    </tr>\n",
       "    <tr>\n",
       "      <th>...</th>\n",
       "      <td>...</td>\n",
       "      <td>...</td>\n",
       "      <td>...</td>\n",
       "    </tr>\n",
       "    <tr>\n",
       "      <th>10175</th>\n",
       "      <td>train\\wav/SWH-15-20110310/SWH-15-20110310_16k-...</td>\n",
       "      <td>na somo lile lililopokelewa kule kenya\\n</td>\n",
       "      <td>2.500062</td>\n",
       "    </tr>\n",
       "    <tr>\n",
       "      <th>10176</th>\n",
       "      <td>train\\wav/SWH-15-20110310/SWH-15-20110310_16k-...</td>\n",
       "      <td>ambapo mtu aliyeshindwa kwenye uchaguzi\\n</td>\n",
       "      <td>2.910000</td>\n",
       "    </tr>\n",
       "    <tr>\n",
       "      <th>10177</th>\n",
       "      <td>train\\wav/SWH-15-20110310/SWH-15-20110310_16k-...</td>\n",
       "      <td>ni kauli yake mchambuzi wa masuala ya siasa\\n</td>\n",
       "      <td>2.950000</td>\n",
       "    </tr>\n",
       "    <tr>\n",
       "      <th>10178</th>\n",
       "      <td>train\\wav/SWH-15-20110310/SWH-15-20110310_16k-...</td>\n",
       "      <td>mwanasheria anayemtetea rais wa zamani wa libe...</td>\n",
       "      <td>2.590000</td>\n",
       "    </tr>\n",
       "    <tr>\n",
       "      <th>10179</th>\n",
       "      <td>train\\wav/SWH-15-20110310/SWH-15-20110310_16k-...</td>\n",
       "      <td>na kesi yake ya kubadilishana almasi na silaha...</td>\n",
       "      <td>5.010000</td>\n",
       "    </tr>\n",
       "  </tbody>\n",
       "</table>\n",
       "<p>10180 rows × 3 columns</p>\n",
       "</div>"
      ],
      "text/plain": [
       "                                                     key  \\\n",
       "0      train\\wav/SWH-05-20101106/SWH-05-20101106_16k-...   \n",
       "1      train\\wav/SWH-05-20101106/SWH-05-20101106_16k-...   \n",
       "2      train\\wav/SWH-05-20101106/SWH-05-20101106_16k-...   \n",
       "3      train\\wav/SWH-05-20101106/SWH-05-20101106_16k-...   \n",
       "4      train\\wav/SWH-05-20101106/SWH-05-20101106_16k-...   \n",
       "...                                                  ...   \n",
       "10175  train\\wav/SWH-15-20110310/SWH-15-20110310_16k-...   \n",
       "10176  train\\wav/SWH-15-20110310/SWH-15-20110310_16k-...   \n",
       "10177  train\\wav/SWH-15-20110310/SWH-15-20110310_16k-...   \n",
       "10178  train\\wav/SWH-15-20110310/SWH-15-20110310_16k-...   \n",
       "10179  train\\wav/SWH-15-20110310/SWH-15-20110310_16k-...   \n",
       "\n",
       "                                                    text  duration  \n",
       "0               rais wa tanzania jakaya mrisho kikwete\\n  3.140000  \n",
       "1      yanayo andaliwa nami pendo pondo idhaa ya kisw...  3.100000  \n",
       "2      inayokutangazia moja kwa moja kutoka jijini da...  3.650000  \n",
       "3      juma hili bara la afrika limeshuhudia raia wa ...  3.900000  \n",
       "4      wakipiga kura ya maoni ilikufanya mabadiliko ya\\n  2.940000  \n",
       "...                                                  ...       ...  \n",
       "10175           na somo lile lililopokelewa kule kenya\\n  2.500062  \n",
       "10176          ambapo mtu aliyeshindwa kwenye uchaguzi\\n  2.910000  \n",
       "10177      ni kauli yake mchambuzi wa masuala ya siasa\\n  2.950000  \n",
       "10178  mwanasheria anayemtetea rais wa zamani wa libe...  2.590000  \n",
       "10179  na kesi yake ya kubadilishana almasi na silaha...  5.010000  \n",
       "\n",
       "[10180 rows x 3 columns]"
      ]
     },
     "execution_count": 20,
     "metadata": {},
     "output_type": "execute_result"
    }
   ],
   "source": [
    "data"
   ]
  }
 ],
 "metadata": {
  "interpreter": {
   "hash": "ad244426f359115d2c0499b23b7bb97e7c6e1bc225e7f39bb6d7e0b4ec820114"
  },
  "kernelspec": {
   "display_name": "Python 3",
   "language": "python",
   "name": "python3"
  },
  "language_info": {
   "codemirror_mode": {
    "name": "ipython",
    "version": 3
   },
   "file_extension": ".py",
   "mimetype": "text/x-python",
   "name": "python",
   "nbconvert_exporter": "python",
   "pygments_lexer": "ipython3",
   "version": "3.8.8"
  }
 },
 "nbformat": 4,
 "nbformat_minor": 2
}
