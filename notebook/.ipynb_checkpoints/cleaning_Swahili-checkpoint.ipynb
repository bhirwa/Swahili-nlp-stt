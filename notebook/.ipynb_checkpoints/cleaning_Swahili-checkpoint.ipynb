{
 "cells": [
  {
   "cell_type": "code",
   "execution_count": 1,
   "id": "06efcd50",
   "metadata": {},
   "outputs": [],
   "source": [
    "import wave\n",
    "import os\n",
    "import librosa "
   ]
  },
  {
   "cell_type": "code",
   "execution_count": 2,
   "id": "89c9d27c",
   "metadata": {},
   "outputs": [
    {
     "data": {
      "text/plain": [
       "['C:/Users/DESMOND/NLP/ALFFA_PUBLIC/ASR/SWAHILI/data/train/wav/SWH-05-20101106/SWH-05-20101106_16k-emission_swahili_05h30_-_06h00_tu_20101106_part10.wav',\n",
       " 'C:/Users/DESMOND/NLP/ALFFA_PUBLIC/ASR/SWAHILI/data/train/wav/SWH-05-20101106/SWH-05-20101106_16k-emission_swahili_05h30_-_06h00_tu_20101106_part100.wav',\n",
       " 'C:/Users/DESMOND/NLP/ALFFA_PUBLIC/ASR/SWAHILI/data/train/wav/SWH-05-20101106/SWH-05-20101106_16k-emission_swahili_05h30_-_06h00_tu_20101106_part101.wav',\n",
       " 'C:/Users/DESMOND/NLP/ALFFA_PUBLIC/ASR/SWAHILI/data/train/wav/SWH-05-20101106/SWH-05-20101106_16k-emission_swahili_05h30_-_06h00_tu_20101106_part102.wav',\n",
       " 'C:/Users/DESMOND/NLP/ALFFA_PUBLIC/ASR/SWAHILI/data/train/wav/SWH-05-20101106/SWH-05-20101106_16k-emission_swahili_05h30_-_06h00_tu_20101106_part103.wav',\n",
       " 'C:/Users/DESMOND/NLP/ALFFA_PUBLIC/ASR/SWAHILI/data/train/wav/SWH-05-20101106/SWH-05-20101106_16k-emission_swahili_05h30_-_06h00_tu_20101106_part104.wav',\n",
       " 'C:/Users/DESMOND/NLP/ALFFA_PUBLIC/ASR/SWAHILI/data/train/wav/SWH-05-20101106/SWH-05-20101106_16k-emission_swahili_05h30_-_06h00_tu_20101106_part105.wav',\n",
       " 'C:/Users/DESMOND/NLP/ALFFA_PUBLIC/ASR/SWAHILI/data/train/wav/SWH-05-20101106/SWH-05-20101106_16k-emission_swahili_05h30_-_06h00_tu_20101106_part106.wav',\n",
       " 'C:/Users/DESMOND/NLP/ALFFA_PUBLIC/ASR/SWAHILI/data/train/wav/SWH-05-20101106/SWH-05-20101106_16k-emission_swahili_05h30_-_06h00_tu_20101106_part107.wav',\n",
       " 'C:/Users/DESMOND/NLP/ALFFA_PUBLIC/ASR/SWAHILI/data/train/wav/SWH-05-20101106/SWH-05-20101106_16k-emission_swahili_05h30_-_06h00_tu_20101106_part108.wav']"
      ]
     },
     "execution_count": 2,
     "metadata": {},
     "output_type": "execute_result"
    }
   ],
   "source": [
    "Path_to_train = \"C:/Users/DESMOND/NLP/ALFFA_PUBLIC/ASR/SWAHILI/data/train/wav\"\n",
    "subfolders = os.listdir(Path_to_train)\n",
    "data = []\n",
    "for s in subfolders:\n",
    "    files = os.listdir(Path_to_train + \"/\" +s)\n",
    "    data.extend([Path_to_train + \"/\" + s+ \"/\" + f for f in files])\n",
    "data[:10]"
   ]
  },
  {
   "cell_type": "code",
   "execution_count": 12,
   "id": "2699f65e",
   "metadata": {},
   "outputs": [],
   "source": [
    "#read text from every transcription audio\n",
    "text_path = \"C:/Users/DESMOND/NLP/ALFFA_PUBLIC/ASR/SWAHILI/data/train/text\"\n",
    "#read text from every transcription audio\n",
    "def read_text( text_path):\n",
    "    text = []\n",
    "    with open(text_path) as fp:\n",
    "        line = fp.readline()\n",
    "        while line:\n",
    "        # TODO: fix spaces in in amharic text\n",
    "            text.append(line)\n",
    "            line = fp.readline()\n",
    "    return text"
   ]
  },
  {
   "cell_type": "code",
   "execution_count": 20,
   "id": "10ddd148",
   "metadata": {},
   "outputs": [
    {
     "data": {
      "text/plain": [
       "['rais wa tanzania jakaya mrisho kikwete',\n",
       " 'yanayo andaliwa nami pendo pondo idhaa ya kiswahili',\n",
       " 'inayokutangazia moja kwa moja kutoka jijini dar es salaam tanzania',\n",
       " 'juma hili bara la afrika limeshuhudia raia wa nchi za niger',\n",
       " 'wakipiga kura ya maoni ilikufanya mabadiliko ya',\n",
       " 'kule abidjan raia wa jiji hilo',\n",
       " 'walipata fursa ya kutumia haki yao ya msingi',\n",
       " 'waziri mkuu wa zamani alasane watara',\n",
       " 'na rais aliyetangulia henry konan berdi',\n",
       " 'walichuana vikali na rais lauren bagbo']"
      ]
     },
     "execution_count": 20,
     "metadata": {},
     "output_type": "execute_result"
    }
   ],
   "source": [
    "#extract the transcription and the label \n",
    "label=[]\n",
    "transcriptions = []\n",
    "for t in text:\n",
    "    sp = t.split(\"\\t\")\n",
    "    sp = [i.strip('\\n') for i in sp]\n",
    "    if len(sp) > 1:\n",
    "        label.append(sp[0])\n",
    "        transcriptions.append(sp[1])\n",
    "transcriptions[:10]"
   ]
  },
  {
   "cell_type": "markdown",
   "id": "aa9d782a",
   "metadata": {},
   "source": [
    "# Clean the data "
   ]
  },
  {
   "cell_type": "code",
   "execution_count": 22,
   "id": "e3091596",
   "metadata": {},
   "outputs": [
    {
     "name": "stdout",
     "output_type": "stream",
     "text": [
      "[['SWH-05-20101106_16k-emission_swahili_05h30_-_06h00_tu_20101106_part10', 'rais', 'wa', 'tanzania', 'jakaya', 'mrisho', 'kikwete'], ['SWH-05-20101106_16k-emission_swahili_05h30_-_06h00_tu_20101106_part100', 'yanayo', 'andaliwa', 'nami', 'pendo', 'pondo', 'idhaa', 'ya', 'kiswahili'], ['SWH-05-20101106_16k-emission_swahili_05h30_-_06h00_tu_20101106_part101', 'inayokutangazia', 'moja', 'kwa', 'moja', 'kutoka', 'jijini', 'dar', 'es', 'salaam', 'tanzania'], ['SWH-05-20101106_16k-emission_swahili_05h30_-_06h00_tu_20101106_part102', 'juma', 'hili', 'bara', 'la', 'afrika', 'limeshuhudia', 'raia', 'wa', 'nchi', 'za', 'niger'], ['SWH-05-20101106_16k-emission_swahili_05h30_-_06h00_tu_20101106_part103', 'wakipiga', 'kura', 'ya', 'maoni', 'ilikufanya', 'mabadiliko', 'ya'], ['SWH-05-20101106_16k-emission_swahili_05h30_-_06h00_tu_20101106_part104', 'kule', 'abidjan', 'raia', 'wa', 'jiji', 'hilo'], ['SWH-05-20101106_16k-emission_swahili_05h30_-_06h00_tu_20101106_part105', 'walipata', 'fursa', 'ya', 'kutumia', 'haki', 'yao', 'ya', 'msingi'], ['SWH-05-20101106_16k-emission_swahili_05h30_-_06h00_tu_20101106_part106', 'waziri', 'mkuu', 'wa', 'zamani', 'alasane', 'watara'], ['SWH-05-20101106_16k-emission_swahili_05h30_-_06h00_tu_20101106_part107', 'na', 'rais', 'aliyetangulia', 'henry', 'konan', 'berdi'], ['SWH-05-20101106_16k-emission_swahili_05h30_-_06h00_tu_20101106_part108', 'walichuana', 'vikali', 'na', 'rais', 'lauren', 'bagbo'], ['SWH-05-20101106_16k-emission_swahili_05h30_-_06h00_tu_20101106_part109', 'matokeo', 'ya', 'uchaguzi', 'mkuu', 'wa', 'nchi', 'ya', 'cote', 'de', 'ivoire', 'inayoongoza', 'kwa', 'uzalishaji', 'wa', 'kakao', 'duniani'], ['SWH-05-20101106_16k-emission_swahili_05h30_-_06h00_tu_20101106_part11', 'kuiongoza', 'taifa', 'hilo', 'kwa', 'awamu', 'ya', 'pili'], ['SWH-05-20101106_16k-emission_swahili_05h30_-_06h00_tu_20101106_part110', 'nina', 'furaha', 'kubwa', 'baada', 'ya', 'kuona', 'raia', 'wa', 'cote', 'de', 'ivoire'], ['SWH-05-20101106_16k-emission_swahili_05h30_-_06h00_tu_20101106_part111', 'wamepiga', 'kura', 'kwa', 'amanii', 'na', 'utulivu'], ['SWH-05-20101106_16k-emission_swahili_05h30_-_06h00_tu_20101106_part112', 'ninaridhishwa', 'na', 'kila', 'linaloendelea', 'sasa', 'kwani', 'mambo', 'ni', 'shwari', 'kabisa'], ['SWH-05-20101106_16k-emission_swahili_05h30_-_06h00_tu_20101106_part113', 'changamoto', 'inayo', 'tukabili', 'kwa', 'sasa'], ['SWH-05-20101106_16k-emission_swahili_05h30_-_06h00_tu_20101106_part114', 'ni', 'kutangaza', 'matokeo', 'ya', 'uchaguzi', 'huu'], ['SWH-05-20101106_16k-emission_swahili_05h30_-_06h00_tu_20101106_part115', 'inabidi', 'zoezi', 'hilo', 'lifanyike', 'kwa', 'amani', 'pia'], ['SWH-05-20101106_16k-emission_swahili_05h30_-_06h00_tu_20101106_part116', 'nimewaomba', 'viongozi', 'mbalimbali', 'wa', 'dini'], ['SWH-05-20101106_16k-emission_swahili_05h30_-_06h00_tu_20101106_part117', '<UNK>'], ['SWH-05-20101106_16k-emission_swahili_05h30_-_06h00_tu_20101106_part118', 'jeje', 'madii', 'ni', 'msemaji', 'wa', 'rais', 'aliyeko', 'madarakani', 'lauren', 'bagbo'], ['SWH-05-20101106_16k-emission_swahili_05h30_-_06h00_tu_20101106_part119', '<UNK>'], ['SWH-05-20101106_16k-emission_swahili_05h30_-_06h00_tu_20101106_part12', 'baada', 'ya', 'kushinda', 'katika', 'uchaguzi', 'mkuu', 'wa', 'taifa', 'hilo'], ['SWH-05-20101106_16k-emission_swahili_05h30_-_06h00_tu_20101106_part120', 'kuna', 'baadhi', 'ya', 'makosa', 'katika', 'vitendea', 'kazi', 'za', 'kuhesabu', 'kura'], ['SWH-05-20101106_16k-emission_swahili_05h30_-_06h00_tu_20101106_part121', 'na', 'yatupelekea', 'kuwa', 'na', 'wasiwasi', 'katika', 'matokeo', 'ya', 'uchaguzi'], ['SWH-05-20101106_16k-emission_swahili_05h30_-_06h00_tu_20101106_part122', 'baadhi', 'za', 'kura', 'kutoka', 'miji', 'na', 'vitongoji', 'mbalimbali', 'zimepunguzwa', 'au', 'zimeongezwa', 'kwa', 'wagombea', 'mbalimbali'], ['SWH-05-20101106_16k-emission_swahili_05h30_-_06h00_tu_20101106_part123', 'kuangalia', 'hitilafu', 'hizo', 'za', 'vitendea', 'kazi', 'kwa', 'ajili', 'ya', 'kuhakikisha'], ['SWH-05-20101106_16k-emission_swahili_05h30_-_06h00_tu_20101106_part124', 'kuhesabiwa', 'kwa', 'kura', 'inaendelea', 'vizuri', 'tunaamini', 'kuwa'], ['SWH-05-20101106_16k-emission_swahili_05h30_-_06h00_tu_20101106_part125', 'tuka', 'kwa', 'tume', 'ya', 'taifa', 'ya', 'uchaguzi'], ['SWH-05-20101106_16k-emission_swahili_05h30_-_06h00_tu_20101106_part126', 'lakini', 'ni', 'mambo', 'tunayaona', 'ambayo', 'yanapaswa', 'kurekebishwa'], ['SWH-05-20101106_16k-emission_swahili_05h30_-_06h00_tu_20101106_part127', 'siwezi', 'kuwafanyia', 'mahesabu', 'ya', 'kuchosha'], ['SWH-05-20101106_16k-emission_swahili_05h30_-_06h00_tu_20101106_part128', 'kulikuwa', 'na', 'pengo', 'za', 'kura'], ['SWH-05-20101106_16k-emission_swahili_05h30_-_06h00_tu_20101106_part129', 'na', 'pengo', 'hilo', 'ilikuwa', 'ikizidi', 'kuongezeka'], ['SWH-05-20101106_16k-emission_swahili_05h30_-_06h00_tu_20101106_part13', 'uliadaliwa', 'jumapili', 'iliopita', 'na', 'kutangazwa', 'mshindi', 'hapo', 'jana'], ['SWH-05-20101106_16k-emission_swahili_05h30_-_06h00_tu_20101106_part130', 'jeje', 'madi', 'ni', 'msemaji', 'wa', 'rais', 'aliyeko', 'madarakani', 'lauren', 'bagbo'], ['SWH-05-20101106_16k-emission_swahili_05h30_-_06h00_tu_20101106_part131', 'tume', 'ya', 'uchaguzi', 'nchini', 'cote', 'd??voire', 'inatakiwa', 'kuendesha', 'duru', 'lingine', 'la', 'uchaguzi', 'mkuu'], ['SWH-05-20101106_16k-emission_swahili_05h30_-_06h00_tu_20101106_part132', 'ndani', 'ya', 'siku', 'kumi', 'na', 'tano', 'kuaanzia', 'siku', 'ile'], ['SWH-05-20101106_16k-emission_swahili_05h30_-_06h00_tu_20101106_part133', 'mengi', 'yalishuhudiwa', 'katika', 'uchaguzi', 'mkuu', 'wa', 'nchini', 'tanzania'], ['SWH-05-20101106_16k-emission_swahili_05h30_-_06h00_tu_20101106_part134', 'yaliahidiwa', 'mengi', 'wakati', 'wa', 'kampeni', 'na', 'hatimaye'], ['SWH-05-20101106_16k-emission_swahili_05h30_-_06h00_tu_20101106_part135', 'raia', 'kati', 'ya', 'milioni', 'kumi', 'na', 'tisa', 'waliojiandikisha', 'katika', 'daftari', 'la', 'kudumu', 'la', 'wapiga', 'kura'], ['SWH-05-20101106_16k-emission_swahili_05h30_-_06h00_tu_20101106_part136', 'walifanya', 'hivyo', 'tarehe', 'thelathini', 'na', 'moja', 'oktoba'], ['SWH-05-20101106_16k-emission_swahili_05h30_-_06h00_tu_20101106_part137', 'idhaa', 'ya', 'kiswahili', 'ya', 'rfi', 'ilituma', 'watangazaji', 'wake', 'maeneo', 'mbalimbali'], ['SWH-05-20101106_16k-emission_swahili_05h30_-_06h00_tu_20101106_part138', 'moja', 'yao', 'alikuwa', 'ni', 'ebi', 'shaban', 'abda'], ['SWH-05-20101106_16k-emission_swahili_05h30_-_06h00_tu_20101106_part139', 'ndiyo', 'imekuwa', 'dosari', 'kubwa', 'inaotajwa', 'kutokea'], ['SWH-05-20101106_16k-emission_swahili_05h30_-_06h00_tu_20101106_part14', 'pata', 'taarifa', 'zaidi', 'kwa', 'kupata', 'kula'], ['SWH-05-20101106_16k-emission_swahili_05h30_-_06h00_tu_20101106_part140', 'mwangalizi', 'kutoka', 'baraza', 'la', 'maaskofu', 'nchini', 'tanzania', 'tihisin', 'lilian', 'tibuku'], ['SWH-05-20101106_16k-emission_swahili_05h30_-_06h00_tu_20101106_part141', 'ameweka', 'bayana', 'zoezi', 'limekwenda', 'vizuri'], ['SWH-05-20101106_16k-emission_swahili_05h30_-_06h00_tu_20101106_part142', 'licha', 'ya', 'malalamiko', 'madogo', 'madogo'], ['SWH-05-20101106_16k-emission_swahili_05h30_-_06h00_tu_20101106_part144', 'hakuna', 'matatizo', 'makubwa', 'ambayo', 'yameweza', 'kuonekana'], ['SWH-05-20101106_16k-emission_swahili_05h30_-_06h00_tu_20101106_part145', 'na', 'matatizo', 'yalioko', 'ni', 'madogo', 'madogo', 'ambayo', 'yanawezakutatulika'], ['SWH-05-20101106_16k-emission_swahili_05h30_-_06h00_tu_20101106_part146', 'kitu', 'kikubwa', 'ambacho', 'tumekiona', 'sasa', 'hivi', 'ni', 'kwamba', 'asilimia', 'kubwa'], ['SWH-05-20101106_16k-emission_swahili_05h30_-_06h00_tu_20101106_part147', 'baadhi', 'ya', 'wasimamizi', 'wa', 'vituo', 'hapa', 'wamesema', 'wanaweza', 'kulitatua'], ['SWH-05-20101106_16k-emission_swahili_05h30_-_06h00_tu_20101106_part148', 'david', 'martin', 'ni', 'mwangalizi', 'mkuu', 'kutoka', 'umoja', 'ulaya'], ['SWH-05-20101106_16k-emission_swahili_05h30_-_06h00_tu_20101106_part149', 'eu', 'bila', 'kuficha', 'wala', 'kuuma', 'maneno'], ['SWH-05-20101106_16k-emission_swahili_05h30_-_06h00_tu_20101106_part15', 'sherehe', 'hizo', 'zifanyike', 'katika', 'uwanja', 'wa', 'uhuru', 'jijini', 'dar', 'es', 'salaam'], ['SWH-05-20101106_16k-emission_swahili_05h30_-_06h00_tu_20101106_part150', 'amepongeza', 'zoezi', 'la', 'upigaji', 'kura'], ['SWH-05-20101106_16k-emission_swahili_05h30_-_06h00_tu_20101106_part151', '<UNK>'], ['SWH-05-20101106_16k-emission_swahili_05h30_-_06h00_tu_20101106_part152', 'tunawaangalizi', 'zaidi', 'ya', 'arobaini', 'na', 'watano', 'ambao', 'wanafwatilia', 'kila', 'kitu', 'kinachoendelea'], ['SWH-05-20101106_16k-emission_swahili_05h30_-_06h00_tu_20101106_part153', 'lakini', 'jinsi', 'tunavyoona', 'hali', 'ya', 'kampeni', 'na', 'uchaguzi', 'inakwenda', 'vizuri'], ['SWH-05-20101106_16k-emission_swahili_05h30_-_06h00_tu_20101106_part154', 'kwani', 'ukizigatia', 'vituo', 'vingi', 'vya', 'kupigia', 'kura'], ['SWH-05-20101106_16k-emission_swahili_05h30_-_06h00_tu_20101106_part155', 'vipo', 'na', 'makarani', 'wanajua', 'kazi', 'zao', 'vizuri', 'kwa', 'kweli', 'hali', 'kiujumla'], ['SWH-05-20101106_16k-emission_swahili_05h30_-_06h00_tu_20101106_part156', 'hadi', 'sasa', 'inaridhisha', '<UNK>'], ['SWH-05-20101106_16k-emission_swahili_05h30_-_06h00_tu_20101106_part157', 'salum', 'alfan', 'baruan', 'wa', 'chama', 'cha', 'wananchi', 'cum'], ['SWH-05-20101106_16k-emission_swahili_05h30_-_06h00_tu_20101106_part158', 'alichanguliwa', 'kuwa', 'mbunge', 'wa', 'jimbo', 'la', 'lindi', 'mjini'], ['SWH-05-20101106_16k-emission_swahili_05h30_-_06h00_tu_20101106_part159', 'mwanasiasa', 'huyo', 'mwenye', 'umri', 'wa', 'miaka', 'hamsini', 'na', 'mmoja', 'na', 'mwenye', 'kuishi', 'na', 'ulemavu', 'wa', 'ngozi'], ['SWH-05-20101106_16k-emission_swahili_05h30_-_06h00_tu_20101106_part16', 'na', 'sasa', 'na', 'ungana', 'na', 'mwezangu', 'victor', 'abuso', 'kutufahamisha'], ['SWH-05-20101106_16k-emission_swahili_05h30_-_06h00_tu_20101106_part160', 'ana', 'mke', 'na', 'na', 'mtoto', 'ambaye', 'si'], ['SWH-05-20101106_16k-emission_swahili_05h30_-_06h00_tu_20101106_part161', 'mambo', 'kadhaa', 'ambayo', 'yamewashawishi', 'au', 'yamewavuta'], ['SWH-05-20101106_16k-emission_swahili_05h30_-_06h00_tu_20101106_part162', 'lakini', 'pia', 'ishiriki', 'wangu', 'katika', 'maswala', 'mbalimbali', 'ya', 'kisiasa'], ['SWH-05-20101106_16k-emission_swahili_05h30_-_06h00_tu_20101106_part163', 'inawezekana', 'kwamba', 'watu', 'wamekerwa'], ['SWH-05-20101106_16k-emission_swahili_05h30_-_06h00_tu_20101106_part164', 'wakaona', 'katika', 'maeneo', 'ambayo', 'tayari', 'sauti', 'zetu'], ['SWH-05-20101106_16k-emission_swahili_05h30_-_06h00_tu_20101106_part165', 'ni', 'salum', 'alfan', 'baruan'], ['SWH-05-20101106_16k-emission_swahili_05h30_-_06h00_tu_20101106_part166', 'kuwa', 'mbunge', 'nchini', 'tanzania'], ['SWH-05-20101106_16k-emission_swahili_05h30_-_06h00_tu_20101106_part167', 'kufuatia', 'mauaji', 'ya', 'watu', 'wenye', 'ulemavu', 'wa', 'ngozi', 'nchini', 'humo', 'rais', 'jakaya', 'mrisho'], ['SWH-05-20101106_16k-emission_swahili_05h30_-_06h00_tu_20101106_part168', 'aliona', 'ni', 'busara', 'kumuteua', 'shemah', 'kuigir'], ['SWH-05-20101106_16k-emission_swahili_05h30_-_06h00_tu_20101106_part169', 'kuingia', 'bungeni', 'ili', 'awakilishe', 'jamii'], ['SWH-05-20101106_16k-emission_swahili_05h30_-_06h00_tu_20101106_part17', 'ni', 'kilele', 'za', 'muziki', 'za', 'kusifu', 'rais', 'jakaya', 'kikwete', 'ambaye'], ['SWH-05-20101106_16k-emission_swahili_05h30_-_06h00_tu_20101106_part170', 'kwa', 'kweli', 'mimi', 'nimelipokea', 'kwa', 'furaha', 'kubwa'], ['SWH-05-20101106_16k-emission_swahili_05h30_-_06h00_tu_20101106_part171', 'ni', 'shemah', 'kuigir', 'mbunge', 'albino'], ['SWH-05-20101106_16k-emission_swahili_05h30_-_06h00_tu_20101106_part172', 'aliyeteuliwa', 'na', 'rais', 'jakaya', 'kikwete', 'kufwatia', 'wibi'], ['SWH-05-20101106_16k-emission_swahili_05h30_-_06h00_tu_20101106_part173', 'la', 'unyanyashaji', 'wa', 'watu', 'wenye', 'ulemavu', 'wa', 'ngozi', 'nchini', 'tanzania'], ['SWH-05-20101106_16k-emission_swahili_05h30_-_06h00_tu_20101106_part174', 'edwin', 'david', 'deketela', 'amewahoji', 'wanahabari', 'john', 'bukuku', 'na', 'rose', 'mweko'], ['SWH-05-20101106_16k-emission_swahili_05h30_-_06h00_tu_20101106_part175', 'juu', 'ya', 'uchaguzi', 'wa', 'tanzania'], ['SWH-05-20101106_16k-emission_swahili_05h30_-_06h00_tu_20101106_part176', 'kwa', 'maslahi', 'ya', 'watanzania', 'kwa', 'maana', 'hiyo'], ['SWH-05-20101106_16k-emission_swahili_05h30_-_06h00_tu_20101106_part177', 'ambalo', 'hatujapata', 'kuliona', 'kwanza', 'wabunge', 'hawa', 'ninavyoona', 'naona', 'kwanza', 'watafanya', 'kazi'], ['SWH-05-20101106_16k-emission_swahili_05h30_-_06h00_tu_20101106_part178', 'vyombo', 'vya', 'upinzani', 'ni', 'changamoto', 'ya', 'kuleta', 'maendeleo'], ['SWH-05-20101106_16k-emission_swahili_05h30_-_06h00_tu_20101106_part179', 'kazi', 'tunaowatuma', 'ni', 'kwamba', 'watuletee', 'maendeleo'], ['SWH-05-20101106_16k-emission_swahili_05h30_-_06h00_tu_20101106_part18', 'na', 'wananchi', 'wa', 'tanzania', 'walianza', 'kuasili', 'katika', 'uwanja', 'huu', 'kuazia'], ['SWH-05-20101106_16k-emission_swahili_05h30_-_06h00_tu_20101106_part180', 'kuwa', 'tuna', 'watuma', 'yaani', 'kile', 'tunachotaka', 'wakifanye'], ['SWH-05-20101106_16k-emission_swahili_05h30_-_06h00_tu_20101106_part181', 'swali', 'hili', 'ningependa', 'nikuulize', 'bukuku'], ['SWH-05-20101106_16k-emission_swahili_05h30_-_06h00_tu_20101106_part182', 'watanzania', 'watarajie', 'nini', 'wapiga', 'kura', 'wana', 'matarajio', 'makubwa', 'sana', 'na', 'wabunge', 'wao'], ['SWH-05-20101106_16k-emission_swahili_05h30_-_06h00_tu_20101106_part183', 'watawajibika', 'vipi', 'kwa', 'jamii', 'ambayo', 'imewateua', 'ili', 'wakawakilishe'], ['SWH-05-20101106_16k-emission_swahili_05h30_-_06h00_tu_20101106_part184', 'kwa', 'wabunge', 'hawa', 'hii', 'kuhakikisha', 'kwamba', 'kampeni', 'zao', 'za', 'elfu', 'mbili', 'na', 'kumi', 'na', 'tano'], ['SWH-05-20101106_16k-emission_swahili_05h30_-_06h00_tu_20101106_part185', 'lakini', 'kama', 'wakishindwa', 'kuweka', 'sawa', 'matarajio', 'ambayo', 'wananchi', 'wamewapa', 'au', 'matumaini', 'ambayo', 'wananchi', 'wamewapa', 'pia', 'wanaweza', 'wakapoteza'], ['SWH-05-20101106_16k-emission_swahili_05h30_-_06h00_tu_20101106_part186', 'kwa', 'muda', 'mrefu', 'katika', 'uongozi', 'hasa', 'bungeni'], ['SWH-05-20101106_16k-emission_swahili_05h30_-_06h00_tu_20101106_part187', 'wakasahau', 'kile', 'walichotumwa', 'wakafanya', 'cha', 'kuwa', 'wao'], ['SWH-05-20101106_16k-emission_swahili_05h30_-_06h00_tu_20101106_part188', 'na', 'hii', 'ni', 'changamoto', 'kwa', 'hao', 'wabunge', 'sasa', 'walioingia'], ['SWH-05-20101106_16k-emission_swahili_05h30_-_06h00_tu_20101106_part189', 'watakapofanya', 'sasa', 'hivi', 'wala', 'haitakuwa', 'haja', 'kama', 'vile', 'sehemu', 'zingine'], ['SWH-05-20101106_16k-emission_swahili_05h30_-_06h00_tu_20101106_part19', 'aa', 'kuja', 'kushuhudia', 'sherehe', 'hii', 'ya', 'kipekee', 'ya', 'kumwapisha'], ['SWH-05-20101106_16k-emission_swahili_05h30_-_06h00_tu_20101106_part190', 'yani', 'hata', 'wapinzani', 'wenyewe', 'waliona', 'kwamba', 'haina', 'haja', 'kwa', 'sababu', 'kazi', 'alioifanya']]\n"
     ]
    }
   ],
   "source": [
    "words = [t.split() for t in text]\n",
    "\n",
    "print(words[:100])"
   ]
  },
  {
   "cell_type": "code",
   "execution_count": 26,
   "id": "18a2d8f3",
   "metadata": {},
   "outputs": [],
   "source": [
    "import numpy as np\n",
    "import pandas as pd\n",
    "import matplotlib.pyplot as plt\n",
    "import seaborn as sns"
   ]
  },
  {
   "cell_type": "code",
   "execution_count": 35,
   "id": "575707cb",
   "metadata": {},
   "outputs": [
    {
     "data": {
      "text/plain": [
       "'matokeo ya uchaguzi mkuu wa nchi ya cote de ivoire inayoongoza kwa uzalishaji wa kakao duniani'"
      ]
     },
     "execution_count": 35,
     "metadata": {},
     "output_type": "execute_result"
    }
   ],
   "source": [
    "data = transcriptions\n",
    "data[10]"
   ]
  },
  {
   "cell_type": "code",
   "execution_count": null,
   "id": "1bd5eb78",
   "metadata": {},
   "outputs": [],
   "source": []
  }
 ],
 "metadata": {
  "kernelspec": {
   "display_name": "Python 3",
   "language": "python",
   "name": "python3"
  },
  "language_info": {
   "codemirror_mode": {
    "name": "ipython",
    "version": 3
   },
   "file_extension": ".py",
   "mimetype": "text/x-python",
   "name": "python",
   "nbconvert_exporter": "python",
   "pygments_lexer": "ipython3",
   "version": "3.8.8"
  }
 },
 "nbformat": 4,
 "nbformat_minor": 5
}
